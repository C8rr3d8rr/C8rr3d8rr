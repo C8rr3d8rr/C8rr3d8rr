{
  "nbformat": 4,
  "nbformat_minor": 0,
  "metadata": {
    "colab": {
      "provenance": [],
      "mount_file_id": "1oDS7fK-5s7Zt5Nn83U6yVGswl26zE4f5",
      "authorship_tag": "ABX9TyPX12f0Kh5Yobpa3UEEj+Zn",
      "include_colab_link": true
    },
    "kernelspec": {
      "name": "python3",
      "display_name": "Python 3"
    },
    "language_info": {
      "name": "python"
    }
  },
  "cells": [
    {
      "cell_type": "markdown",
      "metadata": {
        "id": "view-in-github",
        "colab_type": "text"
      },
      "source": [
        "<a href=\"https://colab.research.google.com/github/C8rr3d8rr/C8rr3d8rr/blob/main/Generacion_codigo_QR.ipynb\" target=\"_parent\"><img src=\"https://colab.research.google.com/assets/colab-badge.svg\" alt=\"Open In Colab\"/></a>"
      ]
    },
    {
      "cell_type": "code",
      "source": [
        "#Importar librerias\n",
        "import qrcode\n",
        "from PIL import Image"
      ],
      "metadata": {
        "id": "M-HjhBQZHUll"
      },
      "execution_count": 11,
      "outputs": []
    },
    {
      "cell_type": "code",
      "source": [
        "qr = qrcode.QRCode(\n",
        "    version = 1,\n",
        "    error_correction=qrcode.constants.ERROR_CORRECT_L,\n",
        "    box_size=20,\n",
        "    border=6\n",
        ")\n",
        "#Se define el link que se quiere direccionar\n",
        "qr.add_data(\"https://www.youtube.com/watch?v=BX0lKSa_PTk\")\n",
        "#Atributo para crear el QR\n",
        "qr.make(fit=True)\n",
        "\n",
        "#Se definen las caracteristicas esteticas del QR\n",
        "img=qr.make_image(fill_color=\"blue\",back_color=\"white\")\n",
        "#Se define la ruta donde se quiera guardar el QR\n",
        "img.save(\"/content/drive/MyDrive/Colab Notebooks/Pruebas/QR_v1.png\")"
      ],
      "metadata": {
        "id": "tQgqofwGJuxT"
      },
      "execution_count": 13,
      "outputs": []
    }
  ]
}