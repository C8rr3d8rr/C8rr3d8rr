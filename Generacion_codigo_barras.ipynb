{
  "nbformat": 4,
  "nbformat_minor": 0,
  "metadata": {
    "colab": {
      "provenance": [],
      "mount_file_id": "1ALM3icw2JVN9obRHt8D7_hwP6-WombCD",
      "authorship_tag": "ABX9TyMRcHRhHfTP73ADLzGAhdNT",
      "include_colab_link": true
    },
    "kernelspec": {
      "name": "python3",
      "display_name": "Python 3"
    },
    "language_info": {
      "name": "python"
    }
  },
  "cells": [
    {
      "cell_type": "markdown",
      "metadata": {
        "id": "view-in-github",
        "colab_type": "text"
      },
      "source": [
        "<a href=\"https://colab.research.google.com/github/C8rr3d8rr/C8rr3d8rr/blob/main/Generacion_codigo_barras.ipynb\" target=\"_parent\"><img src=\"https://colab.research.google.com/assets/colab-badge.svg\" alt=\"Open In Colab\"/></a>"
      ]
    },
    {
      "cell_type": "code",
      "execution_count": 1,
      "metadata": {
        "colab": {
          "base_uri": "https://localhost:8080/"
        },
        "id": "uD9SekkGRVDH",
        "outputId": "9a3b12ac-c358-40df-f569-4360f15c507f"
      },
      "outputs": [
        {
          "output_type": "stream",
          "name": "stdout",
          "text": [
            "Collecting python-barcode\n",
            "  Downloading python_barcode-0.15.1-py3-none-any.whl (212 kB)\n",
            "\u001b[?25l     \u001b[90m━━━━━━━━━━━━━━━━━━━━━━━━━━━━━━━━━━━━━━━━\u001b[0m \u001b[32m0.0/213.0 kB\u001b[0m \u001b[31m?\u001b[0m eta \u001b[36m-:--:--\u001b[0m\r\u001b[2K     \u001b[91m━━━━━━━━━━━━━\u001b[0m\u001b[90m╺\u001b[0m\u001b[90m━━━━━━━━━━━━━━━━━━━━━━━━━━\u001b[0m \u001b[32m71.7/213.0 kB\u001b[0m \u001b[31m2.0 MB/s\u001b[0m eta \u001b[36m0:00:01\u001b[0m\r\u001b[2K     \u001b[90m━━━━━━━━━━━━━━━━━━━━━━━━━━━━━━━━━━━━━━━━\u001b[0m \u001b[32m213.0/213.0 kB\u001b[0m \u001b[31m3.3 MB/s\u001b[0m eta \u001b[36m0:00:00\u001b[0m\n",
            "\u001b[?25hInstalling collected packages: python-barcode\n",
            "Successfully installed python-barcode-0.15.1\n"
          ]
        }
      ],
      "source": [
        "#instalacion de la libreria\n",
        "!pip install python-barcode"
      ]
    },
    {
      "cell_type": "code",
      "source": [
        "#Importacion de las librerias necesarias\n",
        "import barcode\n",
        "from   barcode.writer  import ImageWriter\n",
        "from   barcode         import writer"
      ],
      "metadata": {
        "id": "_wuUIg5QWTY7"
      },
      "execution_count": 3,
      "outputs": []
    },
    {
      "cell_type": "code",
      "source": [
        "#Definir el contenido de codigo de barras\n",
        "cantidad = input(\"Definir el contenido de 11 digitos para la generacion del codigo\")\n",
        "\n",
        "#Definir las caracteristicas del codigo\n",
        "barcode_format = barcode.get_barcode_class(\"upc\")\n",
        "\n",
        "#Generar la imagen y el codigo\n",
        "imagen = barcode_format(cantidad, writer=ImageWriter())\n",
        "\n",
        "#Guardar imagen\n",
        "imagen.save(\"/content/drive/MyDrive/Colab Notebooks/Pruebas/Bar_Code.png\")"
      ],
      "metadata": {
        "colab": {
          "base_uri": "https://localhost:8080/",
          "height": 50
        },
        "id": "YM4wccv6akrp",
        "outputId": "e77e532e-6eca-4028-9867-3043b0b6fb85"
      },
      "execution_count": 5,
      "outputs": [
        {
          "name": "stdout",
          "output_type": "stream",
          "text": [
            "Definir el contenido de 11 digitos para la generacion del codigo1234567891011\n"
          ]
        },
        {
          "output_type": "execute_result",
          "data": {
            "text/plain": [
              "'/content/drive/MyDrive/Colab Notebooks/Pruebas/Bar_Code.png.png'"
            ],
            "application/vnd.google.colaboratory.intrinsic+json": {
              "type": "string"
            }
          },
          "metadata": {},
          "execution_count": 5
        }
      ]
    }
  ]
}