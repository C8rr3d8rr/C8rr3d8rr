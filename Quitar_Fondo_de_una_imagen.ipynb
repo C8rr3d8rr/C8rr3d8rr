{
  "nbformat": 4,
  "nbformat_minor": 0,
  "metadata": {
    "colab": {
      "provenance": [],
      "mount_file_id": "1XbTFIMZ_eo_IsHDwg5-8vSbLMLboxgUV",
      "authorship_tag": "ABX9TyMa7fuwb+2u1xCLzwnwGdVP",
      "include_colab_link": true
    },
    "kernelspec": {
      "name": "python3",
      "display_name": "Python 3"
    },
    "language_info": {
      "name": "python"
    }
  },
  "cells": [
    {
      "cell_type": "markdown",
      "metadata": {
        "id": "view-in-github",
        "colab_type": "text"
      },
      "source": [
        "<a href=\"https://colab.research.google.com/github/C8rr3d8rr/C8rr3d8rr/blob/main/Quitar_Fondo_de_una_imagen.ipynb\" target=\"_parent\"><img src=\"https://colab.research.google.com/assets/colab-badge.svg\" alt=\"Open In Colab\"/></a>"
      ]
    },
    {
      "cell_type": "code",
      "source": [
        "from rembg import remove\n",
        "from PIL   import Image #se intala bajo la libreria pillow"
      ],
      "metadata": {
        "id": "FuiYisDyn8Bu"
      },
      "execution_count": 8,
      "outputs": []
    },
    {
      "cell_type": "code",
      "source": [
        "Imagen_original = '/content/drive/MyDrive/Colab Notebooks/Pruebas/prueba2.jpg'         #Ruta de la imagen orginal\n",
        "Imagen_cortada  = '/content/drive/MyDrive/Colab Notebooks/Pruebas/ejemplo_cortado.png' #Ruta de la imagen que se va recortar\n",
        "Imagen          = Image.open(Imagen_original)                                          #Atributo para abrir la imagen\n",
        "Imagen_recotada = remove(Imagen)                                                       #Sentencia para recortar la imagen\n",
        "Imagen_recotada.save(Imagen_cortada)                                                   #Sentencia para guardar la imagen recortada"
      ],
      "metadata": {
        "colab": {
          "base_uri": "https://localhost:8080/"
        },
        "id": "qTurVlWooONg",
        "outputId": "010140c6-3aef-414f-cbbc-9a2c8be1d251"
      },
      "execution_count": 11,
      "outputs": [
        {
          "output_type": "stream",
          "name": "stderr",
          "text": [
            "Downloading data from 'https://github.com/danielgatis/rembg/releases/download/v0.0.0/u2net.onnx' to file '/root/.u2net/u2net.onnx'.\n",
            "100%|███████████████████████████████████████| 176M/176M [00:00<00:00, 25.3GB/s]\n"
          ]
        }
      ]
    }
  ]
}