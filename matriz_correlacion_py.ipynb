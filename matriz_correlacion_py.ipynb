{
  "nbformat": 4,
  "nbformat_minor": 0,
  "metadata": {
    "colab": {
      "provenance": [],
      "mount_file_id": "1oCe7bagc_aXUNEF-7J97eyilNvZVKKsM",
      "authorship_tag": "ABX9TyM0ATSHHNKFXPU78sPexo9p",
      "include_colab_link": true
    },
    "kernelspec": {
      "name": "python3",
      "display_name": "Python 3"
    },
    "language_info": {
      "name": "python"
    }
  },
  "cells": [
    {
      "cell_type": "markdown",
      "metadata": {
        "id": "view-in-github",
        "colab_type": "text"
      },
      "source": [
        "<a href=\"https://colab.research.google.com/github/C8rr3d8rr/C8rr3d8rr/blob/main/matriz_correlacion_py.ipynb\" target=\"_parent\"><img src=\"https://colab.research.google.com/assets/colab-badge.svg\" alt=\"Open In Colab\"/></a>"
      ]
    },
    {
      "cell_type": "code",
      "execution_count": null,
      "metadata": {
        "colab": {
          "base_uri": "https://localhost:8080/"
        },
        "id": "jfPEoLHdwIgA",
        "outputId": "d9a2c084-0bbf-4e47-e9ed-4df1c7403304"
      },
      "outputs": [
        {
          "output_type": "stream",
          "name": "stdout",
          "text": [
            "Mounted at /content/drive\n"
          ]
        }
      ],
      "source": [
        "#Conectar Drive con Colab\n",
        "from google.colab import drive\n",
        "drive.mount('/content/drive')"
      ]
    },
    {
      "cell_type": "code",
      "source": [],
      "metadata": {
        "id": "OpF-rJAiYg8z"
      },
      "execution_count": null,
      "outputs": []
    },
    {
      "cell_type": "code",
      "source": [
        "#Importar bilbiotecas\n",
        "import pandas            as pd\n",
        "import matplotlib.pyplot as plt #biblioteca para creacion de graficos\n",
        "import numpy             as np  #funciones de calculo matematicos\n",
        "import seaborn           as sns #biblioteca de visualizacion de datos en python basada en matplotlib\n"
      ],
      "metadata": {
        "id": "0giNRzP0yURu"
      },
      "execution_count": null,
      "outputs": []
    },
    {
      "cell_type": "code",
      "source": [
        "#Importar informacion de google\n",
        "from google.colab import files\n",
        "from google.colab import drive"
      ],
      "metadata": {
        "id": "o9HUU-Ke9HJI"
      },
      "execution_count": null,
      "outputs": []
    },
    {
      "cell_type": "code",
      "source": [
        "#importar la informacion desde el drive con el archivo que se quiere analizar\n",
        "ruta ='/content/drive/MyDrive/Colab Notebooks/Universidad/Excel/Dataset_Ingresos_Costos.xlsx'\n",
        "df=pd.read_excel(ruta) #Creacion del DataFrame\n",
        "#df.head(4)             #Muestra los 4 primeros registros del archivo\n",
        "df.describe()          #Muestra una descripcion estadistica del archivo"
      ],
      "metadata": {
        "colab": {
          "base_uri": "https://localhost:8080/",
          "height": 291
        },
        "id": "oMmnoW8L9c3D",
        "outputId": "67d6af94-1cfb-4698-95e4-7ae2a65e9ad8"
      },
      "execution_count": null,
      "outputs": [
        {
          "output_type": "execute_result",
          "data": {
            "text/plain": [
              "          idregional    idsubcentro      ingreso        costos       impuesto\n",
              "count  943014.000000  943014.000000  9.430140e+05  9.430140e+05  9.430140e+05\n",
              "mean       12.764169    1020.061159 -1.322043e+05  8.318092e+04 -2.984031e+03\n",
              "std         2.166204     294.549201  2.205293e+06  1.235305e+06  1.396956e+05\n",
              "min        10.000000    1001.000000 -3.595910e+08 -7.947317e+07 -1.797955e+07\n",
              "25%        11.000000    1003.000000 -1.258300e+04  0.000000e+00  0.000000e+00\n",
              "50%        12.000000    1004.000000  0.000000e+00  0.000000e+00  0.000000e+00\n",
              "75%        14.000000    1016.000000  5.270000e+02  3.910000e+03  3.620000e+01\n",
              "max        17.000000    9999.000000  2.903210e+08  2.154315e+08  2.035263e+07"
            ],
            "text/html": [
              "\n",
              "  <div id=\"df-d1f7caff-b1bf-4810-bad4-b4b2df0e5179\" class=\"colab-df-container\">\n",
              "    <div>\n",
              "<style scoped>\n",
              "    .dataframe tbody tr th:only-of-type {\n",
              "        vertical-align: middle;\n",
              "    }\n",
              "\n",
              "    .dataframe tbody tr th {\n",
              "        vertical-align: top;\n",
              "    }\n",
              "\n",
              "    .dataframe thead th {\n",
              "        text-align: right;\n",
              "    }\n",
              "</style>\n",
              "<table border=\"1\" class=\"dataframe\">\n",
              "  <thead>\n",
              "    <tr style=\"text-align: right;\">\n",
              "      <th></th>\n",
              "      <th>idregional</th>\n",
              "      <th>idsubcentro</th>\n",
              "      <th>ingreso</th>\n",
              "      <th>costos</th>\n",
              "      <th>impuesto</th>\n",
              "    </tr>\n",
              "  </thead>\n",
              "  <tbody>\n",
              "    <tr>\n",
              "      <th>count</th>\n",
              "      <td>943014.000000</td>\n",
              "      <td>943014.000000</td>\n",
              "      <td>9.430140e+05</td>\n",
              "      <td>9.430140e+05</td>\n",
              "      <td>9.430140e+05</td>\n",
              "    </tr>\n",
              "    <tr>\n",
              "      <th>mean</th>\n",
              "      <td>12.764169</td>\n",
              "      <td>1020.061159</td>\n",
              "      <td>-1.322043e+05</td>\n",
              "      <td>8.318092e+04</td>\n",
              "      <td>-2.984031e+03</td>\n",
              "    </tr>\n",
              "    <tr>\n",
              "      <th>std</th>\n",
              "      <td>2.166204</td>\n",
              "      <td>294.549201</td>\n",
              "      <td>2.205293e+06</td>\n",
              "      <td>1.235305e+06</td>\n",
              "      <td>1.396956e+05</td>\n",
              "    </tr>\n",
              "    <tr>\n",
              "      <th>min</th>\n",
              "      <td>10.000000</td>\n",
              "      <td>1001.000000</td>\n",
              "      <td>-3.595910e+08</td>\n",
              "      <td>-7.947317e+07</td>\n",
              "      <td>-1.797955e+07</td>\n",
              "    </tr>\n",
              "    <tr>\n",
              "      <th>25%</th>\n",
              "      <td>11.000000</td>\n",
              "      <td>1003.000000</td>\n",
              "      <td>-1.258300e+04</td>\n",
              "      <td>0.000000e+00</td>\n",
              "      <td>0.000000e+00</td>\n",
              "    </tr>\n",
              "    <tr>\n",
              "      <th>50%</th>\n",
              "      <td>12.000000</td>\n",
              "      <td>1004.000000</td>\n",
              "      <td>0.000000e+00</td>\n",
              "      <td>0.000000e+00</td>\n",
              "      <td>0.000000e+00</td>\n",
              "    </tr>\n",
              "    <tr>\n",
              "      <th>75%</th>\n",
              "      <td>14.000000</td>\n",
              "      <td>1016.000000</td>\n",
              "      <td>5.270000e+02</td>\n",
              "      <td>3.910000e+03</td>\n",
              "      <td>3.620000e+01</td>\n",
              "    </tr>\n",
              "    <tr>\n",
              "      <th>max</th>\n",
              "      <td>17.000000</td>\n",
              "      <td>9999.000000</td>\n",
              "      <td>2.903210e+08</td>\n",
              "      <td>2.154315e+08</td>\n",
              "      <td>2.035263e+07</td>\n",
              "    </tr>\n",
              "  </tbody>\n",
              "</table>\n",
              "</div>\n",
              "    <div class=\"colab-df-buttons\">\n",
              "\n",
              "  <div class=\"colab-df-container\">\n",
              "    <button class=\"colab-df-convert\" onclick=\"convertToInteractive('df-d1f7caff-b1bf-4810-bad4-b4b2df0e5179')\"\n",
              "            title=\"Convert this dataframe to an interactive table.\"\n",
              "            style=\"display:none;\">\n",
              "\n",
              "  <svg xmlns=\"http://www.w3.org/2000/svg\" height=\"24px\" viewBox=\"0 -960 960 960\">\n",
              "    <path d=\"M120-120v-720h720v720H120Zm60-500h600v-160H180v160Zm220 220h160v-160H400v160Zm0 220h160v-160H400v160ZM180-400h160v-160H180v160Zm440 0h160v-160H620v160ZM180-180h160v-160H180v160Zm440 0h160v-160H620v160Z\"/>\n",
              "  </svg>\n",
              "    </button>\n",
              "\n",
              "  <style>\n",
              "    .colab-df-container {\n",
              "      display:flex;\n",
              "      gap: 12px;\n",
              "    }\n",
              "\n",
              "    .colab-df-convert {\n",
              "      background-color: #E8F0FE;\n",
              "      border: none;\n",
              "      border-radius: 50%;\n",
              "      cursor: pointer;\n",
              "      display: none;\n",
              "      fill: #1967D2;\n",
              "      height: 32px;\n",
              "      padding: 0 0 0 0;\n",
              "      width: 32px;\n",
              "    }\n",
              "\n",
              "    .colab-df-convert:hover {\n",
              "      background-color: #E2EBFA;\n",
              "      box-shadow: 0px 1px 2px rgba(60, 64, 67, 0.3), 0px 1px 3px 1px rgba(60, 64, 67, 0.15);\n",
              "      fill: #174EA6;\n",
              "    }\n",
              "\n",
              "    .colab-df-buttons div {\n",
              "      margin-bottom: 4px;\n",
              "    }\n",
              "\n",
              "    [theme=dark] .colab-df-convert {\n",
              "      background-color: #3B4455;\n",
              "      fill: #D2E3FC;\n",
              "    }\n",
              "\n",
              "    [theme=dark] .colab-df-convert:hover {\n",
              "      background-color: #434B5C;\n",
              "      box-shadow: 0px 1px 3px 1px rgba(0, 0, 0, 0.15);\n",
              "      filter: drop-shadow(0px 1px 2px rgba(0, 0, 0, 0.3));\n",
              "      fill: #FFFFFF;\n",
              "    }\n",
              "  </style>\n",
              "\n",
              "    <script>\n",
              "      const buttonEl =\n",
              "        document.querySelector('#df-d1f7caff-b1bf-4810-bad4-b4b2df0e5179 button.colab-df-convert');\n",
              "      buttonEl.style.display =\n",
              "        google.colab.kernel.accessAllowed ? 'block' : 'none';\n",
              "\n",
              "      async function convertToInteractive(key) {\n",
              "        const element = document.querySelector('#df-d1f7caff-b1bf-4810-bad4-b4b2df0e5179');\n",
              "        const dataTable =\n",
              "          await google.colab.kernel.invokeFunction('convertToInteractive',\n",
              "                                                    [key], {});\n",
              "        if (!dataTable) return;\n",
              "\n",
              "        const docLinkHtml = 'Like what you see? Visit the ' +\n",
              "          '<a target=\"_blank\" href=https://colab.research.google.com/notebooks/data_table.ipynb>data table notebook</a>'\n",
              "          + ' to learn more about interactive tables.';\n",
              "        element.innerHTML = '';\n",
              "        dataTable['output_type'] = 'display_data';\n",
              "        await google.colab.output.renderOutput(dataTable, element);\n",
              "        const docLink = document.createElement('div');\n",
              "        docLink.innerHTML = docLinkHtml;\n",
              "        element.appendChild(docLink);\n",
              "      }\n",
              "    </script>\n",
              "  </div>\n",
              "\n",
              "\n",
              "<div id=\"df-695676d3-5c73-4dbd-b492-02d08009cc1d\">\n",
              "  <button class=\"colab-df-quickchart\" onclick=\"quickchart('df-695676d3-5c73-4dbd-b492-02d08009cc1d')\"\n",
              "            title=\"Suggest charts\"\n",
              "            style=\"display:none;\">\n",
              "\n",
              "<svg xmlns=\"http://www.w3.org/2000/svg\" height=\"24px\"viewBox=\"0 0 24 24\"\n",
              "     width=\"24px\">\n",
              "    <g>\n",
              "        <path d=\"M19 3H5c-1.1 0-2 .9-2 2v14c0 1.1.9 2 2 2h14c1.1 0 2-.9 2-2V5c0-1.1-.9-2-2-2zM9 17H7v-7h2v7zm4 0h-2V7h2v10zm4 0h-2v-4h2v4z\"/>\n",
              "    </g>\n",
              "</svg>\n",
              "  </button>\n",
              "\n",
              "<style>\n",
              "  .colab-df-quickchart {\n",
              "      --bg-color: #E8F0FE;\n",
              "      --fill-color: #1967D2;\n",
              "      --hover-bg-color: #E2EBFA;\n",
              "      --hover-fill-color: #174EA6;\n",
              "      --disabled-fill-color: #AAA;\n",
              "      --disabled-bg-color: #DDD;\n",
              "  }\n",
              "\n",
              "  [theme=dark] .colab-df-quickchart {\n",
              "      --bg-color: #3B4455;\n",
              "      --fill-color: #D2E3FC;\n",
              "      --hover-bg-color: #434B5C;\n",
              "      --hover-fill-color: #FFFFFF;\n",
              "      --disabled-bg-color: #3B4455;\n",
              "      --disabled-fill-color: #666;\n",
              "  }\n",
              "\n",
              "  .colab-df-quickchart {\n",
              "    background-color: var(--bg-color);\n",
              "    border: none;\n",
              "    border-radius: 50%;\n",
              "    cursor: pointer;\n",
              "    display: none;\n",
              "    fill: var(--fill-color);\n",
              "    height: 32px;\n",
              "    padding: 0;\n",
              "    width: 32px;\n",
              "  }\n",
              "\n",
              "  .colab-df-quickchart:hover {\n",
              "    background-color: var(--hover-bg-color);\n",
              "    box-shadow: 0 1px 2px rgba(60, 64, 67, 0.3), 0 1px 3px 1px rgba(60, 64, 67, 0.15);\n",
              "    fill: var(--button-hover-fill-color);\n",
              "  }\n",
              "\n",
              "  .colab-df-quickchart-complete:disabled,\n",
              "  .colab-df-quickchart-complete:disabled:hover {\n",
              "    background-color: var(--disabled-bg-color);\n",
              "    fill: var(--disabled-fill-color);\n",
              "    box-shadow: none;\n",
              "  }\n",
              "\n",
              "  .colab-df-spinner {\n",
              "    border: 2px solid var(--fill-color);\n",
              "    border-color: transparent;\n",
              "    border-bottom-color: var(--fill-color);\n",
              "    animation:\n",
              "      spin 1s steps(1) infinite;\n",
              "  }\n",
              "\n",
              "  @keyframes spin {\n",
              "    0% {\n",
              "      border-color: transparent;\n",
              "      border-bottom-color: var(--fill-color);\n",
              "      border-left-color: var(--fill-color);\n",
              "    }\n",
              "    20% {\n",
              "      border-color: transparent;\n",
              "      border-left-color: var(--fill-color);\n",
              "      border-top-color: var(--fill-color);\n",
              "    }\n",
              "    30% {\n",
              "      border-color: transparent;\n",
              "      border-left-color: var(--fill-color);\n",
              "      border-top-color: var(--fill-color);\n",
              "      border-right-color: var(--fill-color);\n",
              "    }\n",
              "    40% {\n",
              "      border-color: transparent;\n",
              "      border-right-color: var(--fill-color);\n",
              "      border-top-color: var(--fill-color);\n",
              "    }\n",
              "    60% {\n",
              "      border-color: transparent;\n",
              "      border-right-color: var(--fill-color);\n",
              "    }\n",
              "    80% {\n",
              "      border-color: transparent;\n",
              "      border-right-color: var(--fill-color);\n",
              "      border-bottom-color: var(--fill-color);\n",
              "    }\n",
              "    90% {\n",
              "      border-color: transparent;\n",
              "      border-bottom-color: var(--fill-color);\n",
              "    }\n",
              "  }\n",
              "</style>\n",
              "\n",
              "  <script>\n",
              "    async function quickchart(key) {\n",
              "      const quickchartButtonEl =\n",
              "        document.querySelector('#' + key + ' button');\n",
              "      quickchartButtonEl.disabled = true;  // To prevent multiple clicks.\n",
              "      quickchartButtonEl.classList.add('colab-df-spinner');\n",
              "      try {\n",
              "        const charts = await google.colab.kernel.invokeFunction(\n",
              "            'suggestCharts', [key], {});\n",
              "      } catch (error) {\n",
              "        console.error('Error during call to suggestCharts:', error);\n",
              "      }\n",
              "      quickchartButtonEl.classList.remove('colab-df-spinner');\n",
              "      quickchartButtonEl.classList.add('colab-df-quickchart-complete');\n",
              "    }\n",
              "    (() => {\n",
              "      let quickchartButtonEl =\n",
              "        document.querySelector('#df-695676d3-5c73-4dbd-b492-02d08009cc1d button');\n",
              "      quickchartButtonEl.style.display =\n",
              "        google.colab.kernel.accessAllowed ? 'block' : 'none';\n",
              "    })();\n",
              "  </script>\n",
              "</div>\n",
              "\n",
              "    </div>\n",
              "  </div>\n"
            ],
            "application/vnd.google.colaboratory.intrinsic+json": {
              "type": "dataframe",
              "summary": "{\n  \"name\": \"df\",\n  \"rows\": 8,\n  \"fields\": [\n    {\n      \"column\": \"idregional\",\n      \"properties\": {\n        \"dtype\": \"number\",\n        \"std\": 333401.81051842123,\n        \"min\": 2.166203841480958,\n        \"max\": 943014.0,\n        \"num_unique_values\": 8,\n        \"samples\": [\n          12.764168930683956,\n          12.0,\n          943014.0\n        ],\n        \"semantic_type\": \"\",\n        \"description\": \"\"\n      }\n    },\n    {\n      \"column\": \"idsubcentro\",\n      \"properties\": {\n        \"dtype\": \"number\",\n        \"std\": 332646.4948233778,\n        \"min\": 294.54920116939996,\n        \"max\": 943014.0,\n        \"num_unique_values\": 8,\n        \"samples\": [\n          1020.0611592192693,\n          1004.0,\n          943014.0\n        ],\n        \"semantic_type\": \"\",\n        \"description\": \"\"\n      }\n    },\n    {\n      \"column\": \"ingreso \",\n      \"properties\": {\n        \"dtype\": \"number\",\n        \"std\": 174457877.92494565,\n        \"min\": -359591032.0,\n        \"max\": 290320987.0,\n        \"num_unique_values\": 8,\n        \"samples\": [\n          -132204.3195138142,\n          0.0,\n          943014.0\n        ],\n        \"semantic_type\": \"\",\n        \"description\": \"\"\n      }\n    },\n    {\n      \"column\": \"costos \",\n      \"properties\": {\n        \"dtype\": \"number\",\n        \"std\": 84803067.7990915,\n        \"min\": -79473167.0,\n        \"max\": 215431525.0,\n        \"num_unique_values\": 7,\n        \"samples\": [\n          943014.0,\n          83180.91727270221,\n          3910.0\n        ],\n        \"semantic_type\": \"\",\n        \"description\": \"\"\n      }\n    },\n    {\n      \"column\": \"impuesto\",\n      \"properties\": {\n        \"dtype\": \"number\",\n        \"std\": 10260272.342902774,\n        \"min\": -17979551.6,\n        \"max\": 20352629.0,\n        \"num_unique_values\": 7,\n        \"samples\": [\n          943014.0,\n          -2984.03076903418,\n          36.2\n        ],\n        \"semantic_type\": \"\",\n        \"description\": \"\"\n      }\n    }\n  ]\n}"
            }
          },
          "metadata": {},
          "execution_count": 4
        }
      ]
    },
    {
      "cell_type": "code",
      "source": [
        "matriz_corr=df.corr() #Crea matriz con coef. de correlac con todas las variables\n",
        "print(matriz_corr)"
      ],
      "metadata": {
        "colab": {
          "base_uri": "https://localhost:8080/"
        },
        "id": "CwxBsrw__ujQ",
        "outputId": "c1a6b98e-28e4-48dd-955f-c64028d63780"
      },
      "execution_count": null,
      "outputs": [
        {
          "output_type": "stream",
          "name": "stdout",
          "text": [
            "             idregional  idsubcentro  ingreso    costos   impuesto\n",
            "idregional     1.000000    -0.002637  0.006744 -0.008904  0.002773\n",
            "idsubcentro   -0.002637     1.000000 -0.000994  0.001320 -0.000019\n",
            "ingreso        0.006744    -0.000994  1.000000  0.004037  0.760561\n",
            "costos        -0.008904     0.001320  0.004037  1.000000  0.473439\n",
            "impuesto       0.002773    -0.000019  0.760561  0.473439  1.000000\n"
          ]
        },
        {
          "output_type": "stream",
          "name": "stderr",
          "text": [
            "<ipython-input-6-a6b2017a9076>:1: FutureWarning: The default value of numeric_only in DataFrame.corr is deprecated. In a future version, it will default to False. Select only valid columns or specify the value of numeric_only to silence this warning.\n",
            "  matriz_corr=df.corr() #Crea matriz con coef. de correlac con todas las variables\n"
          ]
        }
      ]
    },
    {
      "cell_type": "code",
      "source": [
        "#Creacion de un minidataset con variables cuantitativas de interes\n",
        "columnas_interes=['idregional','impuesto','idsubcentro']\n",
        "datos_selecc=df[columnas_interes]\n",
        "#datos_selecc.head()\n",
        "#matriz_correlacion=datos_selecc.corr()\n",
        "#print(matriz_correlacion)"
      ],
      "metadata": {
        "id": "4qEmYOESA6GG"
      },
      "execution_count": null,
      "outputs": []
    },
    {
      "cell_type": "code",
      "source": [
        "#Generar el mapa de calor\n",
        "plt.figure(figsize=(10,8))\n",
        "sns.heatmap(matriz_correlacion, annot=True,cmap='coolwarm',fmt='.2f',square=True)\n",
        "#personalizar el mapa de calor\n",
        "plt.title('matriz de correlacion')\n",
        "plt.xticks(rotation=45) #Especifica la ubicacion de las marcas en el eje x\n",
        "plt.yticks(rotation=0)\n",
        "plt.show()              #Mostrar grafico"
      ],
      "metadata": {
        "colab": {
          "base_uri": "https://localhost:8080/",
          "height": 751
        },
        "id": "iE5Ds_3-BxXy",
        "outputId": "a3d7e170-7231-4f17-b0c4-f7fa1d8fbc22"
      },
      "execution_count": null,
      "outputs": [
        {
          "output_type": "display_data",
          "data": {
            "text/plain": [
              "<Figure size 1000x800 with 2 Axes>"
            ],
            "image/png": "[encoded data removed]"
          },
          "metadata": {}
        }
      ]
    }
  ]
}