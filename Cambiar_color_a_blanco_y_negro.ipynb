{
  "nbformat": 4,
  "nbformat_minor": 0,
  "metadata": {
    "colab": {
      "provenance": [],
      "mount_file_id": "10rkhswWFex5ju3XpdUKV6fNwTVHa4gNf",
      "authorship_tag": "ABX9TyNn6S7ebFr6TQgnO7DhYUBB",
      "include_colab_link": true
    },
    "kernelspec": {
      "name": "python3",
      "display_name": "Python 3"
    },
    "language_info": {
      "name": "python"
    }
  },
  "cells": [
    {
      "cell_type": "markdown",
      "metadata": {
        "id": "view-in-github",
        "colab_type": "text"
      },
      "source": [
        "<a href=\"https://colab.research.google.com/github/C8rr3d8rr/C8rr3d8rr/blob/main/Cambiar_color_a_blanco_y_negro.ipynb\" target=\"_parent\"><img src=\"https://colab.research.google.com/assets/colab-badge.svg\" alt=\"Open In Colab\"/></a>"
      ]
    },
    {
      "cell_type": "code",
      "execution_count": null,
      "metadata": {
        "colab": {
          "base_uri": "https://localhost:8080/"
        },
        "id": "4PIPdXo3W8vb",
        "outputId": "84bdfc2b-9500-40ad-9657-35d46689f3a8"
      },
      "outputs": [
        {
          "output_type": "stream",
          "name": "stdout",
          "text": [
            "Requirement already satisfied: pillow in /usr/local/lib/python3.10/dist-packages (9.4.0)\n"
          ]
        }
      ],
      "source": [
        "#Instalacion del paquete Pillow-> procesar fotos\n",
        "!pip install pillow"
      ]
    },
    {
      "cell_type": "markdown",
      "source": [
        "**Conversion imagenes a escala de grises**"
      ],
      "metadata": {
        "id": "FbzrzilPayiJ"
      }
    },
    {
      "cell_type": "code",
      "source": [
        "from PIL import Image, ImageChops, ImageEnhance, ImageOps\n",
        "def main():\n",
        "    image = Image.open(\"/content/drive/MyDrive/Colab Notebooks/Pruebas/Bob.png\")\n",
        "\n",
        "    # Invertir colores.\n",
        "    new_image = ImageChops.invert(image)\n",
        "    new_image.save(\"/content/drive/MyDrive/Colab Notebooks/Pruebas/Bob.png\")\n",
        "\n",
        "    # Escala de grises.\n",
        "    new_image = ImageOps.grayscale(image)\n",
        "    new_image.save(\"/content/drive/MyDrive/Colab Notebooks/Pruebas/Bob.png\")\n",
        "\n",
        "    # Resaltar luces.\n",
        "    new_image = ImageEnhance.Brightness(image).enhance(2)\n",
        "    new_image.save(\"/content/drive/MyDrive/Colab Notebooks/Pruebas/Bob.png\")\n",
        "\n",
        "    # Contraste.\n",
        "    new_image = ImageEnhance.Contrast(image).enhance(4)\n",
        "    new_image.save(\"/content/drive/MyDrive/Colab Notebooks/Pruebas/Bob.png\")\n",
        "\n",
        "    # Espejo.\n",
        "    new_image = ImageOps.mirror(image)\n",
        "    new_image.save(\"/content/drive/MyDrive/Colab Notebooks/Pruebas/Bob.png\")\n",
        "\n",
        "    # Cambiar tamaño.\n",
        "    new_image = image.resize((320, 240))\n",
        "    new_image.save(\"/content/drive/MyDrive/Colab Notebooks/Pruebas/Bob.png\")\n",
        "\n",
        "    # Diminuir nitidez.\n",
        "    new_image = ImageEnhance.Sharpness(image).enhance(-4)\n",
        "    new_image.save(\"/content/drive/MyDrive/Colab Notebooks/Pruebas/Bob.png\")\n",
        "if __name__ == \"__main__\":\n",
        "    main()"
      ],
      "metadata": {
        "id": "r67bnX8obDLB"
      },
      "execution_count": null,
      "outputs": []
    }
  ]
}